{
 "cells": [
  {
   "cell_type": "markdown",
   "metadata": {},
   "source": [
    "* pip install opencv-python\n",
    "* pip install imutils\n",
    "* pip install pytesseract"
   ]
  },
  {
   "cell_type": "markdown",
   "metadata": {},
   "source": [
    "###  Instantiate video cam and capture static image"
   ]
  },
  {
   "cell_type": "code",
   "execution_count": 1,
   "metadata": {},
   "outputs": [],
   "source": [
    "import numpy as np\n",
    "import cv2\n",
    "import uuid\n",
    "\n",
    "cap = cv2.VideoCapture(0)\n",
    "\n",
    "while(True):\n",
    "    ret, frame = cap.read()\n",
    "    gray = cv2.cvtColor(frame, cv2.COLOR_BGR2GRAY)\n",
    "    cv2.imshow('frame',gray)\n",
    "    \n",
    "    #unique_filename = str(uuid.uuid4())+'.jpg'\n",
    "    #cv2.imwrite(unique_filename, gray)\n",
    "    \n",
    "    if cv2.waitKey(1) & 0xFF == ord('q'):\n",
    "        break\n",
    "\n",
    "cap.release()\n",
    "cv2.destroyAllWindows()"
   ]
  },
  {
   "cell_type": "markdown",
   "metadata": {},
   "source": [
    "### Tranform image"
   ]
  },
  {
   "cell_type": "code",
   "execution_count": 2,
   "metadata": {},
   "outputs": [],
   "source": [
    "import numpy as np\n",
    "import cv2\n",
    "import imutils\n",
    "\n",
    "gray_img = cv2.imread('img/squirrel.jpg', 0)\n",
    "rgb_img = cv2.imread('img/squirrel.jpg', 1)\n",
    "\n",
    "cv2.imshow('origin image', imutils.resize(rgb_img, 800))\n",
    "cv2.imshow('gray image', imutils.resize(gray_img, 800))\n",
    "if cv2.waitKey(0) == 27:    #ESC\n",
    "    cv2.destroyAllWindows()"
   ]
  },
  {
   "cell_type": "markdown",
   "metadata": {},
   "source": [
    "### Vehicle plate number recognition"
   ]
  },
  {
   "cell_type": "code",
   "execution_count": 3,
   "metadata": {},
   "outputs": [
    {
     "name": "stdout",
     "output_type": "stream",
     "text": [
      "The recognized text: BG#224-NZ\n"
     ]
    }
   ],
   "source": [
    "import numpy as np\n",
    "import cv2\n",
    "import imutils\n",
    "import sys\n",
    "import pytesseract\n",
    "import pandas as pd\n",
    "import time\n",
    "    \n",
    "pytesseract.pytesseract.tesseract_cmd = r\"C:\\Program Files\\Tesseract-OCR\\tesseract.exe\"\n",
    "img = cv2.imread(\"img/Car_Image_1.jpg\")\n",
    "img = imutils.resize(img, width=500)\n",
    "\n",
    "cv2.imshow(\"Original Image\", img)\n",
    "if cv2.waitKey(0):\n",
    "    cv2.destroyAllWindows()\n",
    "\n",
    "gray_img = cv2.cvtColor(img, cv2.COLOR_BGR2GRAY)\n",
    "cv2.imshow(\"Preprocess 1 - Grayscale Conversion\", gray_img)\n",
    "if cv2.waitKey(0):\n",
    "    cv2.destroyAllWindows()\n",
    "\n",
    "'''Bilateral Filter : It will remove noise while preserving the edges. So, the number plate remains distinct.'''\n",
    "gray_img = cv2.bilateralFilter(gray_img, 11, 17, 17)\n",
    "cv2.imshow(\"Preprocess 2 - Bilateral Filter\", gray_img)\n",
    "if cv2.waitKey(0):\n",
    "    cv2.destroyAllWindows()\n",
    "\n",
    "'''Canny Edge detector'''\n",
    "    #Finding edges of the grayscale image.\n",
    "c_edge = cv2.Canny(gray_img, 170, 200)\n",
    "cv2.imshow(\"Preprocess 3 - Canny Edges\", c_edge)\n",
    "if cv2.waitKey(0):\n",
    "    cv2.destroyAllWindows()\n",
    "\n",
    "#Finding contours based on edges detected.\n",
    "cnt, new = cv2.findContours(c_edge, cv2.RETR_LIST, cv2.CHAIN_APPROX_SIMPLE)\n",
    "#Storing the top 30 edges based on priority\n",
    "cnt = sorted(cnt, key = cv2.contourArea, reverse = True)[:30]\n",
    "NumberPlateCount = None\n",
    "\n",
    "im2 = img.copy()\n",
    "cv2.drawContours(im2, cnt, -1, (0,255,0), 3)\n",
    "cv2.imshow(\"Top 30 Contours\", im2)          #Show the top 30 contours.\n",
    "if cv2.waitKey(0):\n",
    "    cv2.destroyAllWindows()\n",
    "\n",
    "count = 0\n",
    "for c in cnt:\n",
    "    perimeter = cv2.arcLength(c, True)      #Getting perimeter of each contour\n",
    "    approx = cv2.approxPolyDP(c, 0.02 * perimeter, True)\n",
    "    if len(approx) == 4:                    #Selecting the contour with 4 corners/sides.\n",
    "        NumberPlateCount = approx\n",
    "        break\n",
    "\n",
    "#Masking all other parts, other than the number plate.\n",
    "masked = np.zeros(gray_img.shape,np.uint8)\n",
    "new_image = cv2.drawContours(masked,[NumberPlateCount],0,255,-1)\n",
    "new_image = cv2.bitwise_and(img,img,mask=masked)\n",
    "cv2.imshow(\"4 - Final_Image\",new_image)     #The final image showing only the number plate.\n",
    "if cv2.waitKey(0):\n",
    "    cv2.destroyAllWindows()\n",
    "\n",
    "#Configuration for tesseract\n",
    "configr = ('-l eng --oem 1 --psm 3')\n",
    "#Running Tesseract-OCR on final image.\n",
    "text_no = pytesseract.image_to_string(new_image, config=configr)\n",
    "\n",
    "#The extracted data is stored in a data file.\n",
    "data = {'Date': [time.asctime(time.localtime(time.time()))], 'Vehicle_number': [text_no]}\n",
    "df = pd.DataFrame(data, columns = ['Date', 'Vehicle_number'])\n",
    "df.to_csv('Dataset_VehicleNo.csv')\n",
    "\n",
    "#Printing the recognized text as output.\n",
    "print('The recognized text: ' + text_no)\n",
    "if cv2.waitKey(0):\n",
    "    cv2.destroyAllWindows()"
   ]
  }
 ],
 "metadata": {
  "kernelspec": {
   "display_name": "Python 3",
   "language": "python",
   "name": "python3"
  },
  "language_info": {
   "codemirror_mode": {
    "name": "ipython",
    "version": 3
   },
   "file_extension": ".py",
   "mimetype": "text/x-python",
   "name": "python",
   "nbconvert_exporter": "python",
   "pygments_lexer": "ipython3",
   "version": "3.6.5"
  }
 },
 "nbformat": 4,
 "nbformat_minor": 2
}
